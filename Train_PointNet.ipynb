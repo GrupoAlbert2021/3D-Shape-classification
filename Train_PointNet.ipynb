{
  "nbformat": 4,
  "nbformat_minor": 0,
  "metadata": {
    "colab": {
      "name": "Train_PointNet.ipynb",
      "provenance": [],
      "collapsed_sections": [],
      "toc_visible": true,
      "include_colab_link": true
    },
    "kernelspec": {
      "name": "python3",
      "display_name": "Python 3"
    },
    "accelerator": "GPU"
  },
  "cells": [
    {
      "cell_type": "markdown",
      "metadata": {
        "id": "view-in-github",
        "colab_type": "text"
      },
      "source": [
        "<a href=\"https://colab.research.google.com/github/g4aidl-upc-winter-2020/3D-Shape-classification/blob/main/Train_PointNet.ipynb\" target=\"_parent\"><img src=\"https://colab.research.google.com/assets/colab-badge.svg\" alt=\"Open In Colab\"/></a>"
      ]
    },
    {
      "cell_type": "code",
      "metadata": {
        "id": "dmVCqPwQbzhU",
        "colab": {
          "base_uri": "https://localhost:8080/"
        },
        "outputId": "406fb911-fe14-4347-b08a-0b54778a72ce"
      },
      "source": [
        "# Install all needed packages from PyG:\r\n",
        "!pip install -q torch-scatter -f https://pytorch-geometric.com/whl/torch-1.8.0+cu101.html\r\n",
        "!pip install -q torch-sparse -f https://pytorch-geometric.com/whl/torch-1.8.0+cu101.html\r\n",
        "!pip install -q torch-geometric"
      ],
      "execution_count": null,
      "outputs": [
        {
          "output_type": "stream",
          "text": [
            "\u001b[K     |████████████████████████████████| 2.6MB 6.6MB/s \n",
            "\u001b[K     |████████████████████████████████| 1.5MB 6.7MB/s \n",
            "\u001b[K     |████████████████████████████████| 194kB 7.9MB/s \n",
            "\u001b[K     |████████████████████████████████| 235kB 15.0MB/s \n",
            "\u001b[K     |████████████████████████████████| 2.2MB 15.5MB/s \n",
            "\u001b[K     |████████████████████████████████| 51kB 8.3MB/s \n",
            "\u001b[?25h  Building wheel for torch-geometric (setup.py) ... \u001b[?25l\u001b[?25hdone\n"
          ],
          "name": "stdout"
        }
      ]
    },
    {
      "cell_type": "code",
      "metadata": {
        "id": "yoFs-MOrKVw8"
      },
      "source": [
        "import os\r\n",
        "import sys\r\n",
        "\r\n",
        "import torch\r\n",
        "from torch_geometric.datasets import ModelNet\r\n",
        "from torch_geometric.data import DataLoader\r\n",
        "from torch_geometric.utils import to_dense_batch\r\n",
        "import torch_geometric.transforms as T\r\n",
        "from torch_geometric.transforms import SamplePoints, NormalizeScale\r\n",
        "import torch.nn as nn\r\n",
        "import torch.nn.functional as F\r\n",
        "from torch import autograd\r\n",
        "\r\n",
        "import datetime\r\n",
        "from time import time\r\n",
        "\r\n",
        "from torch.utils.tensorboard import SummaryWriter\r\n",
        "from tensorboard import notebook\r\n",
        "%load_ext tensorboard\r\n",
        "\r\n",
        "import numpy as np\r\n"
      ],
      "execution_count": null,
      "outputs": []
    },
    {
      "cell_type": "markdown",
      "metadata": {
        "id": "iamJNZwEaoeE"
      },
      "source": [
        "##Import drive folder"
      ]
    },
    {
      "cell_type": "code",
      "metadata": {
        "id": "ji4PldSCLHA7",
        "colab": {
          "base_uri": "https://localhost:8080/"
        },
        "outputId": "fed3de3e-9fbb-4545-882e-177356cff0c2"
      },
      "source": [
        "from google.colab import drive\n",
        "drive.mount('/content/drive')"
      ],
      "execution_count": null,
      "outputs": [
        {
          "output_type": "stream",
          "text": [
            "Mounted at /content/drive\n"
          ],
          "name": "stdout"
        }
      ]
    },
    {
      "cell_type": "markdown",
      "metadata": {
        "id": "IhBEyBDMKTJU"
      },
      "source": [
        "## Set a fixed seed"
      ]
    },
    {
      "cell_type": "code",
      "metadata": {
        "id": "QTbPwkkZKTR6"
      },
      "source": [
        "seed = 42\r\n",
        "\r\n",
        "#Controlling sources of randomness\r\n",
        "torch.manual_seed(seed)  #Sets the seed for generating random numbers for all devices (both CPU and CUDA)\r\n",
        "\r\n",
        "#Random number generators in other libraries\r\n",
        "np.random.seed(seed)\r\n",
        "\r\n",
        "#CUDA convolution benchmarking\r\n",
        "torch.backends.cudnn.benchmark = False #ensures that CUDA selects the same algorithm each time an application is run\r\n",
        "\r\n",
        "#Avoiding nondeterministic algorithms\r\n",
        "torch.use_deterministic_algorithms(True) #use “deterministic” algorithms (given the same input always produce the same output)"
      ],
      "execution_count": null,
      "outputs": []
    },
    {
      "cell_type": "markdown",
      "metadata": {
        "id": "H-wI5yPp_NiO"
      },
      "source": [
        "## Hyper-parameters"
      ]
    },
    {
      "cell_type": "code",
      "metadata": {
        "id": "Hj9EOF7z_Nt3"
      },
      "source": [
        "learning_rate = 0.001\r\n",
        "train_batch_size = 32\r\n",
        "val_batch_size = 32\r\n",
        "num_epochs = 200\r\n",
        "weight_decay = 1e-3 "
      ],
      "execution_count": null,
      "outputs": []
    },
    {
      "cell_type": "markdown",
      "metadata": {
        "id": "zwQLQDA3WK3e"
      },
      "source": [
        "## Instantiate Tensorboard Writer"
      ]
    },
    {
      "cell_type": "markdown",
      "metadata": {
        "id": "4r_jU3MGnP5N"
      },
      "source": [
        "### Create log folders"
      ]
    },
    {
      "cell_type": "code",
      "metadata": {
        "id": "PhJSdm5TvNaV"
      },
      "source": [
        "root='/content/drive/MyDrive/Proyecto/Colabs'\r\n",
        "train_logdir = os.path.join(root, \"logs\", datetime.datetime.now().strftime(\"%Y%m%d-%H%M%S\"), 'train')\r\n",
        "val_logdir = os.path.join(root, \"logs\", datetime.datetime.now().strftime(\"%Y%m%d-%H%M%S\"), 'validation')"
      ],
      "execution_count": null,
      "outputs": []
    },
    {
      "cell_type": "markdown",
      "metadata": {
        "id": "kmLLGeZinV65"
      },
      "source": [
        "### Create summary writer"
      ]
    },
    {
      "cell_type": "code",
      "metadata": {
        "id": "xvB8h1khnUxc"
      },
      "source": [
        "train_writer = SummaryWriter(log_dir=train_logdir)\r\n",
        "val_writer = SummaryWriter(log_dir=val_logdir)"
      ],
      "execution_count": null,
      "outputs": []
    },
    {
      "cell_type": "markdown",
      "metadata": {
        "id": "Nr9LupPTbvsU"
      },
      "source": [
        "# PointNet"
      ]
    },
    {
      "cell_type": "markdown",
      "metadata": {
        "id": "_6C-wwDWb7iV"
      },
      "source": [
        "This is an implementation of [PointNet: Deep Learning on Point Sets for 3D Classification and Segmentation](https://arxiv.org/abs/1612.00593) using PyTorch *Geometric*."
      ]
    },
    {
      "cell_type": "markdown",
      "metadata": {
        "id": "ectzRUBgcewc"
      },
      "source": [
        "## Dataset"
      ]
    },
    {
      "cell_type": "code",
      "metadata": {
        "id": "p7S0n1sucFeF"
      },
      "source": [
        "# Import ModelNet10 dataset from PyG\r\n",
        "dataset = ModelNet(root='/content/drive/MyDrive/Proyecto/Colabs/ModelNet', name= \"10\", train=True, pre_transform=T.SamplePoints(num=1024)) #train dataset"
      ],
      "execution_count": null,
      "outputs": []
    },
    {
      "cell_type": "code",
      "metadata": {
        "id": "M1gIri-UHm7P"
      },
      "source": [
        "#We load from two text files the indices of train and validation data \r\n",
        "\r\n",
        "train = open(\"/content/drive/MyDrive/Proyecto/Colabs/train_split.txt\", 'r')\r\n",
        "train_idx = []\r\n",
        "for idx in train:\r\n",
        "  train_idx.append(int(idx))\r\n",
        "\r\n",
        "val = open(\"/content/drive/MyDrive/Proyecto/Colabs/val_split.txt\", 'r')\r\n",
        "val_idx = []\r\n",
        "for idx in val:\r\n",
        "  val_idx.append(int(idx))\r\n",
        "\r\n",
        "#print(\"Train indices: \", train_idx)\r\n",
        "#print(\"Val indices: \", val_idx)\r\n"
      ],
      "execution_count": null,
      "outputs": []
    },
    {
      "cell_type": "code",
      "metadata": {
        "id": "rzmTHcUzAV4U",
        "colab": {
          "base_uri": "https://localhost:8080/"
        },
        "outputId": "af7a32a8-4532-47d1-e506-5481dd908e2a"
      },
      "source": [
        "train_dataset = dataset[train_idx]\r\n",
        "val_dataset = dataset[val_idx]\r\n",
        "\r\n",
        "print('Datasets info:')\r\n",
        "print('--------------')\r\n",
        "print('Train dataset size: ', len(train_dataset))\r\n",
        "print('Validation dataset size: ', len(val_dataset))\r\n",
        "print('Number of classes: ', dataset.num_classes) "
      ],
      "execution_count": null,
      "outputs": [
        {
          "output_type": "stream",
          "text": [
            "Datasets info:\n",
            "--------------\n",
            "Train dataset size:  3193\n",
            "Validation dataset size:  798\n",
            "Number of classes:  10\n"
          ],
          "name": "stdout"
        }
      ]
    },
    {
      "cell_type": "markdown",
      "metadata": {
        "id": "RWmHm9ybTAzf"
      },
      "source": [
        "### Normalize Input points"
      ]
    },
    {
      "cell_type": "code",
      "metadata": {
        "id": "2iDPljFTTA72"
      },
      "source": [
        "#Centers and normalizes node positions to the interval (-1,1) \r\n",
        "train_dataset.transform = NormalizeScale()\r\n",
        "val_dataset.transform = NormalizeScale()"
      ],
      "execution_count": null,
      "outputs": []
    },
    {
      "cell_type": "markdown",
      "metadata": {
        "id": "H0lHvGwYCug3"
      },
      "source": [
        "## Training"
      ]
    },
    {
      "cell_type": "markdown",
      "metadata": {
        "id": "GVADHsQOLE5R"
      },
      "source": [
        "### Make sure your runtime has a GPU"
      ]
    },
    {
      "cell_type": "code",
      "metadata": {
        "id": "FoO0XuudLFOT"
      },
      "source": [
        "device = torch.device(\"cuda:0\" if torch.cuda.is_available() else \"cpu\")\r\n",
        "assert not device.type == 'cpu', \"Change Runtime Type -> GPU\""
      ],
      "execution_count": null,
      "outputs": []
    },
    {
      "cell_type": "markdown",
      "metadata": {
        "id": "JxAIsENchj7O"
      },
      "source": [
        "### Loading the model architecture"
      ]
    },
    {
      "cell_type": "code",
      "metadata": {
        "id": "MolYIQ4dmWvy"
      },
      "source": [
        "#We include a new file path that will point to modules that we want to import\r\n",
        "sys.path.append('/content/drive/MyDrive/Proyecto/Colabs/Architectures/PointNet')  "
      ],
      "execution_count": null,
      "outputs": []
    },
    {
      "cell_type": "code",
      "metadata": {
        "id": "eNhtiqggDJJc",
        "colab": {
          "base_uri": "https://localhost:8080/"
        },
        "outputId": "d44e76ad-b201-4c86-b8c5-4adfafa1ea4a"
      },
      "source": [
        "#Import the model from a python script\r\n",
        "from PointNet_Architecture import ClassificationPointNet\r\n",
        "model = ClassificationPointNet()  #Instantiate the model\r\n",
        "model.to(device)    # Pass the model to GPU(device)"
      ],
      "execution_count": null,
      "outputs": [
        {
          "output_type": "execute_result",
          "data": {
            "text/plain": [
              "ClassificationPointNet(\n",
              "  (transform): Transform(\n",
              "    (input_transform): Tnet(\n",
              "      (conv1): Conv1d(3, 64, kernel_size=(1,), stride=(1,))\n",
              "      (conv2): Conv1d(64, 128, kernel_size=(1,), stride=(1,))\n",
              "      (conv3): Conv1d(128, 1024, kernel_size=(1,), stride=(1,))\n",
              "      (fc1): Linear(in_features=1024, out_features=512, bias=True)\n",
              "      (fc2): Linear(in_features=512, out_features=256, bias=True)\n",
              "      (fc3): Linear(in_features=256, out_features=9, bias=True)\n",
              "      (bn1): BatchNorm1d(64, eps=1e-05, momentum=0.1, affine=True, track_running_stats=True)\n",
              "      (bn2): BatchNorm1d(128, eps=1e-05, momentum=0.1, affine=True, track_running_stats=True)\n",
              "      (bn3): BatchNorm1d(1024, eps=1e-05, momentum=0.1, affine=True, track_running_stats=True)\n",
              "      (bn4): BatchNorm1d(512, eps=1e-05, momentum=0.1, affine=True, track_running_stats=True)\n",
              "      (bn5): BatchNorm1d(256, eps=1e-05, momentum=0.1, affine=True, track_running_stats=True)\n",
              "    )\n",
              "    (feature_transform): Tnet(\n",
              "      (conv1): Conv1d(64, 64, kernel_size=(1,), stride=(1,))\n",
              "      (conv2): Conv1d(64, 128, kernel_size=(1,), stride=(1,))\n",
              "      (conv3): Conv1d(128, 1024, kernel_size=(1,), stride=(1,))\n",
              "      (fc1): Linear(in_features=1024, out_features=512, bias=True)\n",
              "      (fc2): Linear(in_features=512, out_features=256, bias=True)\n",
              "      (fc3): Linear(in_features=256, out_features=4096, bias=True)\n",
              "      (bn1): BatchNorm1d(64, eps=1e-05, momentum=0.1, affine=True, track_running_stats=True)\n",
              "      (bn2): BatchNorm1d(128, eps=1e-05, momentum=0.1, affine=True, track_running_stats=True)\n",
              "      (bn3): BatchNorm1d(1024, eps=1e-05, momentum=0.1, affine=True, track_running_stats=True)\n",
              "      (bn4): BatchNorm1d(512, eps=1e-05, momentum=0.1, affine=True, track_running_stats=True)\n",
              "      (bn5): BatchNorm1d(256, eps=1e-05, momentum=0.1, affine=True, track_running_stats=True)\n",
              "    )\n",
              "    (conv1): Conv1d(3, 64, kernel_size=(1,), stride=(1,))\n",
              "    (conv2): Conv1d(64, 128, kernel_size=(1,), stride=(1,))\n",
              "    (conv3): Conv1d(128, 1024, kernel_size=(1,), stride=(1,))\n",
              "    (bn1): BatchNorm1d(64, eps=1e-05, momentum=0.1, affine=True, track_running_stats=True)\n",
              "    (bn2): BatchNorm1d(128, eps=1e-05, momentum=0.1, affine=True, track_running_stats=True)\n",
              "    (bn3): BatchNorm1d(1024, eps=1e-05, momentum=0.1, affine=True, track_running_stats=True)\n",
              "  )\n",
              "  (fc1): Linear(in_features=1024, out_features=512, bias=True)\n",
              "  (fc2): Linear(in_features=512, out_features=256, bias=True)\n",
              "  (fc3): Linear(in_features=256, out_features=10, bias=True)\n",
              "  (bn1): BatchNorm1d(512, eps=1e-05, momentum=0.1, affine=True, track_running_stats=True)\n",
              "  (bn2): BatchNorm1d(256, eps=1e-05, momentum=0.1, affine=True, track_running_stats=True)\n",
              "  (dropout): Dropout(p=0.3, inplace=False)\n",
              ")"
            ]
          },
          "metadata": {
            "tags": []
          },
          "execution_count": 15
        }
      ]
    },
    {
      "cell_type": "markdown",
      "metadata": {
        "id": "DNhZxuaQhWzy"
      },
      "source": [
        "#### Pararameters of the model"
      ]
    },
    {
      "cell_type": "code",
      "metadata": {
        "id": "cTTzDt0mnNhO",
        "colab": {
          "base_uri": "https://localhost:8080/"
        },
        "outputId": "37f5c086-9edb-4018-9b40-6626bb430e59"
      },
      "source": [
        "num_params = sum(p.numel() for p in model.parameters() if p.requires_grad)\r\n",
        "print('Number of parameters: %d' % num_params)"
      ],
      "execution_count": null,
      "outputs": [
        {
          "output_type": "stream",
          "text": [
            "Number of parameters: 3463763\n"
          ],
          "name": "stdout"
        }
      ]
    },
    {
      "cell_type": "markdown",
      "metadata": {
        "id": "W7jXu1f9gas7"
      },
      "source": [
        "### Accuracy function"
      ]
    },
    {
      "cell_type": "code",
      "metadata": {
        "id": "bljN_FRyfJ2E"
      },
      "source": [
        "def accuracy(output, target):\r\n",
        "  pred = output.argmax(dim=1)  # get the index of the max log-probability\r\n",
        "  return (pred == target).sum().item() / target.numel()  #return the mean accuracy in the batch"
      ],
      "execution_count": null,
      "outputs": []
    },
    {
      "cell_type": "markdown",
      "metadata": {
        "id": "s1C8ESuhfgCF"
      },
      "source": [
        "### Train function"
      ]
    },
    {
      "cell_type": "code",
      "metadata": {
        "id": "m1gITlsMf_hM"
      },
      "source": [
        "def train_epoch(model, train_loader, optimizer, criterion, epoch, scheduler):   #Training function for one epoch\r\n",
        "  \r\n",
        "  model.train() #Activate the train=True flag inside the model\r\n",
        "  losses = []\r\n",
        "  accs = []\r\n",
        "\r\n",
        "  lr = scheduler.get_last_lr()    \r\n",
        "\r\n",
        "  for batch_idx, data in enumerate(train_loader, 1):\r\n",
        "\r\n",
        "      inputs = to_dense_batch(data.pos, batch=data.batch)  #return a tuple where in the first position there are the points of every pointcloud in the batch\r\n",
        "      \r\n",
        "      optimizer.zero_grad()  #setting all the gradient to zero\r\n",
        "\r\n",
        "      output = model(inputs[0].to(device).float().transpose(1,2))  #Pass the inputs through the network and compute the outputs\r\n",
        "      \r\n",
        "      loss = criterion(output.to(device), data.y.to(device))  #Calculate the loss in the batch\r\n",
        "      \r\n",
        "      loss.backward() #Backprop over the loss function through the network\r\n",
        "      \r\n",
        "      acc = 100 * accuracy(output.to(device), data.y.to(device))  #Calculate the mean accuracy in the batch\r\n",
        "\r\n",
        "      losses.append(loss.item()) #save the loss value in a list of losses\r\n",
        "      \r\n",
        "      accs.append(acc) #save the accuracy value in a list of accuracies\r\n",
        "\r\n",
        "      optimizer.step()\r\n",
        "\r\n",
        "      if batch_idx >= len(train_loader):\r\n",
        "          print('Train Epoch: {} \\tLR: {} \\tAverage Loss: {:.4f}\\tAverage Acc: {:.2f} %'.format(\r\n",
        "              epoch, lr , np.mean(losses), np.mean(accs)))\r\n",
        "          \r\n",
        "          train_writer.add_scalar('Loss', np.mean(losses), epoch) #log training loss for one epoch to Tensorboard\r\n",
        "          train_writer.add_scalar('Acc', np.mean(accs), epoch)    #log training accuracy for one epoch to Tensorboard\r\n",
        "\r\n",
        "  return np.mean(losses), np.mean(accs)\r\n"
      ],
      "execution_count": null,
      "outputs": []
    },
    {
      "cell_type": "markdown",
      "metadata": {
        "id": "misdA5uRfuBS"
      },
      "source": [
        "### Validation function"
      ]
    },
    {
      "cell_type": "code",
      "metadata": {
        "id": "29opQyJMfsgD"
      },
      "source": [
        "def eval_epoch(model, val_loader, criterion, epoch):  #evaluation function after one epoch of training\r\n",
        "  \r\n",
        "  model.eval() #Activate the train=False flag inside the model\r\n",
        "  eval_losses = []\r\n",
        "  eval_accs = []\r\n",
        "  with torch.no_grad():\r\n",
        "    for data in val_loader:\r\n",
        "      inputs = to_dense_batch(data.pos, batch=data.batch)  #return a tuple where in the first position there are the points of every pointcloud in the batch\r\n",
        "      \r\n",
        "      output = model(inputs[0].to(device).float().transpose(1,2))  #Pass the inputs through the network \r\n",
        "      \r\n",
        "      eval_loss = criterion(output.to(device), data.y.to(device))\r\n",
        "      eval_losses.append(eval_loss.item()) #save the loss value in a list of losses\r\n",
        "      \r\n",
        "      eval_acc = 100 * accuracy(output.to(device), data.y.to(device)) #Calculate the accuracy in the batch\r\n",
        "      eval_accs.append(eval_acc) #save the accuracy value in a list of accuracies\r\n",
        "    \r\n",
        "    print('Val Epoch: {} \\tAverage loss: {:.4f}\\tAverage Acc: {:.2f} %'.format(\r\n",
        "        epoch, np.mean(eval_losses), np.mean(eval_accs)))\r\n",
        "    \r\n",
        "    val_writer.add_scalar('Loss', np.mean(eval_losses), epoch)  #log validation loss for one epoch to Tensorboard\r\n",
        "    val_writer.add_scalar('Acc',  np.mean(eval_accs), epoch)    #log validation accuracy for one epoch to Tensorboard\r\n",
        "\r\n",
        "  return np.mean(eval_losses), np.mean(eval_accs)"
      ],
      "execution_count": null,
      "outputs": []
    },
    {
      "cell_type": "markdown",
      "metadata": {
        "id": "ZbaAzbN1bpHd"
      },
      "source": [
        "## Dataloader"
      ]
    },
    {
      "cell_type": "markdown",
      "metadata": {
        "id": "M8YtqmphC_v-"
      },
      "source": [
        "Let's pass the datasets through the DataLoader in order to obtain batches of samples:"
      ]
    },
    {
      "cell_type": "code",
      "metadata": {
        "id": "mhMOsGbtC8GR"
      },
      "source": [
        "train_loader = DataLoader(train_dataset, batch_size=train_batch_size, shuffle=True)  #train set\r\n",
        "val_loader = DataLoader(val_dataset, batch_size=val_batch_size, shuffle=False)       #val set"
      ],
      "execution_count": null,
      "outputs": []
    },
    {
      "cell_type": "markdown",
      "metadata": {
        "id": "vBIcXrLLezaP"
      },
      "source": [
        "## Optimizer"
      ]
    },
    {
      "cell_type": "code",
      "metadata": {
        "id": "AFbbSL_9DSn6"
      },
      "source": [
        "optimizer = torch.optim.Adam(model.parameters(), lr= learning_rate, weight_decay = weight_decay)\r\n",
        "#optimizer = torch.optim.SGD(model.parameters(), lr= learning_rate)"
      ],
      "execution_count": null,
      "outputs": []
    },
    {
      "cell_type": "markdown",
      "metadata": {
        "id": "ERoqa01amF7z"
      },
      "source": [
        "## Scheduler"
      ]
    },
    {
      "cell_type": "code",
      "metadata": {
        "id": "_R0tkMRxmIs4"
      },
      "source": [
        "scheduler = torch.optim.lr_scheduler.StepLR(optimizer, step_size=20, gamma=0.5) #Learning rate is divided by 2 every 20 epochs"
      ],
      "execution_count": null,
      "outputs": []
    },
    {
      "cell_type": "markdown",
      "metadata": {
        "id": "CAtvrbyLe5-3"
      },
      "source": [
        "## Loss"
      ]
    },
    {
      "cell_type": "code",
      "metadata": {
        "id": "wdWadi30e6gk"
      },
      "source": [
        "criterion = nn.CrossEntropyLoss()  #useful to train a classification problem with N classes (logsoftmax layer + NLLLoss)"
      ],
      "execution_count": null,
      "outputs": []
    },
    {
      "cell_type": "markdown",
      "metadata": {
        "id": "iJDe-7gJj2xK"
      },
      "source": [
        "## Train"
      ]
    },
    {
      "cell_type": "code",
      "metadata": {
        "id": "2C0MtcpVgG4i"
      },
      "source": [
        "def train_net(model, train_loader, val_loader, optimizer, criterion, num_epochs, scheduler): \r\n",
        "  \"\"\" Function that trains and evals a network for n epochs.\r\n",
        "  \"\"\"\r\n",
        "  #with autograd.detect_anomaly():\r\n",
        "  best_accuracy = 0.0\r\n",
        "  for epoch in range(1, num_epochs + 1):\r\n",
        "    tr_loss, tr_acc = train_epoch(model, train_loader, optimizer, criterion, epoch, scheduler)  #train the model\r\n",
        "    val_loss, val_acc = eval_epoch(model, val_loader, criterion, epoch)              #eval the model \r\n",
        "    \r\n",
        "    scheduler.step() #Step for LR decay\r\n",
        "    \r\n",
        "    if best_accuracy < val_acc:\r\n",
        "      best_accuracy = val_acc\r\n",
        "      torch.save(model.state_dict(), train_logdir + '/best_params.pt')  #save the model state for best val accuracy\r\n",
        "  \r\n",
        "  return best_accuracy  "
      ],
      "execution_count": null,
      "outputs": []
    },
    {
      "cell_type": "code",
      "metadata": {
        "id": "bNIJmfYuDRFy",
        "colab": {
          "base_uri": "https://localhost:8080/"
        },
        "outputId": "fe6e2a54-bd08-4263-8fc5-6948c9fb9158"
      },
      "source": [
        "best_accuracy = train_net(model, train_loader, val_loader, optimizer, criterion, num_epochs, scheduler)\r\n",
        "print('Best validation accuracy = ', best_accuracy)"
      ],
      "execution_count": null,
      "outputs": [
        {
          "output_type": "stream",
          "text": [
            "Train Epoch: 1 \tLR: [0.001] \tAverage Loss: 2.1794\tAverage Acc: 22.39 %\n",
            "Val Epoch: 1 \tAverage loss: 23.7880\tAverage Acc: 20.06 %\n",
            "Train Epoch: 2 \tLR: [0.001] \tAverage Loss: 2.0106\tAverage Acc: 31.55 %\n",
            "Val Epoch: 2 \tAverage loss: 32.2882\tAverage Acc: 20.32 %\n",
            "Train Epoch: 3 \tLR: [0.001] \tAverage Loss: 1.8503\tAverage Acc: 34.18 %\n",
            "Val Epoch: 3 \tAverage loss: 5.5960\tAverage Acc: 20.43 %\n",
            "Train Epoch: 4 \tLR: [0.001] \tAverage Loss: 1.7104\tAverage Acc: 38.23 %\n",
            "Val Epoch: 4 \tAverage loss: 2.3805\tAverage Acc: 20.56 %\n",
            "Train Epoch: 5 \tLR: [0.001] \tAverage Loss: 1.6833\tAverage Acc: 38.92 %\n",
            "Val Epoch: 5 \tAverage loss: 2.6598\tAverage Acc: 20.31 %\n",
            "Train Epoch: 6 \tLR: [0.001] \tAverage Loss: 1.6089\tAverage Acc: 41.71 %\n",
            "Val Epoch: 6 \tAverage loss: 17.0341\tAverage Acc: 20.94 %\n",
            "Train Epoch: 7 \tLR: [0.001] \tAverage Loss: 1.5725\tAverage Acc: 43.21 %\n",
            "Val Epoch: 7 \tAverage loss: 16.6572\tAverage Acc: 22.19 %\n",
            "Train Epoch: 8 \tLR: [0.001] \tAverage Loss: 1.5317\tAverage Acc: 44.33 %\n",
            "Val Epoch: 8 \tAverage loss: 2.2901\tAverage Acc: 10.51 %\n",
            "Train Epoch: 9 \tLR: [0.001] \tAverage Loss: 1.5510\tAverage Acc: 44.35 %\n",
            "Val Epoch: 9 \tAverage loss: 7.0253\tAverage Acc: 22.82 %\n",
            "Train Epoch: 10 \tLR: [0.001] \tAverage Loss: 1.4511\tAverage Acc: 48.18 %\n",
            "Val Epoch: 10 \tAverage loss: 6.1548\tAverage Acc: 11.26 %\n",
            "Train Epoch: 11 \tLR: [0.001] \tAverage Loss: 1.4610\tAverage Acc: 46.69 %\n",
            "Val Epoch: 11 \tAverage loss: 2.2937\tAverage Acc: 10.77 %\n",
            "Train Epoch: 12 \tLR: [0.001] \tAverage Loss: 1.4392\tAverage Acc: 48.28 %\n",
            "Val Epoch: 12 \tAverage loss: 2.3445\tAverage Acc: 11.14 %\n",
            "Train Epoch: 13 \tLR: [0.001] \tAverage Loss: 1.3925\tAverage Acc: 48.69 %\n",
            "Val Epoch: 13 \tAverage loss: 2.7543\tAverage Acc: 12.89 %\n",
            "Train Epoch: 14 \tLR: [0.001] \tAverage Loss: 1.3957\tAverage Acc: 48.25 %\n",
            "Val Epoch: 14 \tAverage loss: 2.5365\tAverage Acc: 29.44 %\n",
            "Train Epoch: 15 \tLR: [0.001] \tAverage Loss: 1.3493\tAverage Acc: 49.79 %\n",
            "Val Epoch: 15 \tAverage loss: 2.7294\tAverage Acc: 11.14 %\n",
            "Train Epoch: 16 \tLR: [0.001] \tAverage Loss: 1.3029\tAverage Acc: 51.50 %\n",
            "Val Epoch: 16 \tAverage loss: 2.7989\tAverage Acc: 11.88 %\n",
            "Train Epoch: 17 \tLR: [0.001] \tAverage Loss: 1.2261\tAverage Acc: 56.12 %\n",
            "Val Epoch: 17 \tAverage loss: 3.0378\tAverage Acc: 11.02 %\n",
            "Train Epoch: 18 \tLR: [0.001] \tAverage Loss: 1.1702\tAverage Acc: 60.12 %\n",
            "Val Epoch: 18 \tAverage loss: 2.6426\tAverage Acc: 13.15 %\n",
            "Train Epoch: 19 \tLR: [0.001] \tAverage Loss: 1.1221\tAverage Acc: 61.13 %\n",
            "Val Epoch: 19 \tAverage loss: 3.3855\tAverage Acc: 14.27 %\n",
            "Train Epoch: 20 \tLR: [0.001] \tAverage Loss: 1.0085\tAverage Acc: 65.16 %\n",
            "Val Epoch: 20 \tAverage loss: 2.6947\tAverage Acc: 14.28 %\n",
            "Train Epoch: 21 \tLR: [0.0005] \tAverage Loss: 0.8685\tAverage Acc: 69.47 %\n",
            "Val Epoch: 21 \tAverage loss: 2.5942\tAverage Acc: 15.78 %\n",
            "Train Epoch: 22 \tLR: [0.0005] \tAverage Loss: 0.8435\tAverage Acc: 70.74 %\n",
            "Val Epoch: 22 \tAverage loss: 2.4579\tAverage Acc: 15.41 %\n",
            "Train Epoch: 23 \tLR: [0.0005] \tAverage Loss: 0.7790\tAverage Acc: 74.25 %\n",
            "Val Epoch: 23 \tAverage loss: 2.9506\tAverage Acc: 18.66 %\n",
            "Train Epoch: 24 \tLR: [0.0005] \tAverage Loss: 0.7492\tAverage Acc: 74.25 %\n",
            "Val Epoch: 24 \tAverage loss: 3.1897\tAverage Acc: 38.95 %\n",
            "Train Epoch: 25 \tLR: [0.0005] \tAverage Loss: 0.6573\tAverage Acc: 77.47 %\n",
            "Val Epoch: 25 \tAverage loss: 2.4251\tAverage Acc: 16.28 %\n",
            "Train Epoch: 26 \tLR: [0.0005] \tAverage Loss: 0.6807\tAverage Acc: 76.09 %\n",
            "Val Epoch: 26 \tAverage loss: 2.8125\tAverage Acc: 21.92 %\n",
            "Train Epoch: 27 \tLR: [0.0005] \tAverage Loss: 0.5516\tAverage Acc: 81.39 %\n",
            "Val Epoch: 27 \tAverage loss: 2.5353\tAverage Acc: 17.91 %\n",
            "Train Epoch: 28 \tLR: [0.0005] \tAverage Loss: 0.5905\tAverage Acc: 80.44 %\n",
            "Val Epoch: 28 \tAverage loss: 37.3262\tAverage Acc: 40.31 %\n",
            "Train Epoch: 29 \tLR: [0.0005] \tAverage Loss: 0.5964\tAverage Acc: 80.14 %\n",
            "Val Epoch: 29 \tAverage loss: 2.1089\tAverage Acc: 22.79 %\n",
            "Train Epoch: 30 \tLR: [0.0005] \tAverage Loss: 0.5594\tAverage Acc: 81.58 %\n",
            "Val Epoch: 30 \tAverage loss: 2.3049\tAverage Acc: 29.67 %\n",
            "Train Epoch: 31 \tLR: [0.0005] \tAverage Loss: 0.5283\tAverage Acc: 82.34 %\n",
            "Val Epoch: 31 \tAverage loss: 2.1373\tAverage Acc: 21.79 %\n",
            "Train Epoch: 32 \tLR: [0.0005] \tAverage Loss: 0.5168\tAverage Acc: 83.07 %\n",
            "Val Epoch: 32 \tAverage loss: 2.9689\tAverage Acc: 13.28 %\n",
            "Train Epoch: 33 \tLR: [0.0005] \tAverage Loss: 0.5169\tAverage Acc: 83.64 %\n",
            "Val Epoch: 33 \tAverage loss: 2.6137\tAverage Acc: 46.20 %\n",
            "Train Epoch: 34 \tLR: [0.0005] \tAverage Loss: 0.4905\tAverage Acc: 83.90 %\n",
            "Val Epoch: 34 \tAverage loss: 3.6845\tAverage Acc: 39.97 %\n",
            "Train Epoch: 35 \tLR: [0.0005] \tAverage Loss: 0.4512\tAverage Acc: 85.08 %\n",
            "Val Epoch: 35 \tAverage loss: 1.9451\tAverage Acc: 38.17 %\n",
            "Train Epoch: 36 \tLR: [0.0005] \tAverage Loss: 0.5292\tAverage Acc: 82.14 %\n",
            "Val Epoch: 36 \tAverage loss: 5.2587\tAverage Acc: 41.06 %\n",
            "Train Epoch: 37 \tLR: [0.0005] \tAverage Loss: 0.4806\tAverage Acc: 84.17 %\n",
            "Val Epoch: 37 \tAverage loss: 2.6238\tAverage Acc: 17.28 %\n",
            "Train Epoch: 38 \tLR: [0.0005] \tAverage Loss: 0.4468\tAverage Acc: 85.24 %\n",
            "Val Epoch: 38 \tAverage loss: 2.8243\tAverage Acc: 22.91 %\n",
            "Train Epoch: 39 \tLR: [0.0005] \tAverage Loss: 0.4013\tAverage Acc: 87.57 %\n",
            "Val Epoch: 39 \tAverage loss: 1.5833\tAverage Acc: 39.08 %\n",
            "Train Epoch: 40 \tLR: [0.0005] \tAverage Loss: 0.4749\tAverage Acc: 84.12 %\n",
            "Val Epoch: 40 \tAverage loss: 2.7288\tAverage Acc: 14.64 %\n",
            "Train Epoch: 41 \tLR: [0.00025] \tAverage Loss: 0.3485\tAverage Acc: 88.68 %\n",
            "Val Epoch: 41 \tAverage loss: 1.7748\tAverage Acc: 38.82 %\n",
            "Train Epoch: 42 \tLR: [0.00025] \tAverage Loss: 0.3144\tAverage Acc: 89.25 %\n",
            "Val Epoch: 42 \tAverage loss: 1.8765\tAverage Acc: 35.79 %\n",
            "Train Epoch: 43 \tLR: [0.00025] \tAverage Loss: 0.3353\tAverage Acc: 88.77 %\n",
            "Val Epoch: 43 \tAverage loss: 1.9832\tAverage Acc: 24.28 %\n",
            "Train Epoch: 44 \tLR: [0.00025] \tAverage Loss: 0.3262\tAverage Acc: 89.33 %\n",
            "Val Epoch: 44 \tAverage loss: 1.4185\tAverage Acc: 52.22 %\n",
            "Train Epoch: 45 \tLR: [0.00025] \tAverage Loss: 0.3029\tAverage Acc: 90.04 %\n",
            "Val Epoch: 45 \tAverage loss: 1.8028\tAverage Acc: 40.95 %\n",
            "Train Epoch: 46 \tLR: [0.00025] \tAverage Loss: 0.3031\tAverage Acc: 90.22 %\n",
            "Val Epoch: 46 \tAverage loss: 2.2246\tAverage Acc: 24.54 %\n",
            "Train Epoch: 47 \tLR: [0.00025] \tAverage Loss: 0.2726\tAverage Acc: 90.67 %\n",
            "Val Epoch: 47 \tAverage loss: 1.4366\tAverage Acc: 62.28 %\n",
            "Train Epoch: 48 \tLR: [0.00025] \tAverage Loss: 0.2775\tAverage Acc: 91.66 %\n",
            "Val Epoch: 48 \tAverage loss: 1.9307\tAverage Acc: 38.83 %\n",
            "Train Epoch: 49 \tLR: [0.00025] \tAverage Loss: 0.2798\tAverage Acc: 91.07 %\n",
            "Val Epoch: 49 \tAverage loss: 79.7061\tAverage Acc: 71.16 %\n",
            "Train Epoch: 50 \tLR: [0.00025] \tAverage Loss: 0.3001\tAverage Acc: 89.88 %\n",
            "Val Epoch: 50 \tAverage loss: 1.8995\tAverage Acc: 46.97 %\n",
            "Train Epoch: 51 \tLR: [0.00025] \tAverage Loss: 0.2967\tAverage Acc: 89.93 %\n",
            "Val Epoch: 51 \tAverage loss: 11.1174\tAverage Acc: 75.95 %\n",
            "Train Epoch: 52 \tLR: [0.00025] \tAverage Loss: 0.2807\tAverage Acc: 90.42 %\n",
            "Val Epoch: 52 \tAverage loss: 2.1395\tAverage Acc: 19.41 %\n",
            "Train Epoch: 53 \tLR: [0.00025] \tAverage Loss: 0.2854\tAverage Acc: 90.46 %\n",
            "Val Epoch: 53 \tAverage loss: 12.3396\tAverage Acc: 73.81 %\n",
            "Train Epoch: 54 \tLR: [0.00025] \tAverage Loss: 0.2791\tAverage Acc: 90.62 %\n",
            "Val Epoch: 54 \tAverage loss: 1.7660\tAverage Acc: 48.12 %\n",
            "Train Epoch: 55 \tLR: [0.00025] \tAverage Loss: 0.3191\tAverage Acc: 89.70 %\n",
            "Val Epoch: 55 \tAverage loss: 1.9770\tAverage Acc: 34.71 %\n",
            "Train Epoch: 56 \tLR: [0.00025] \tAverage Loss: 0.3111\tAverage Acc: 90.04 %\n",
            "Val Epoch: 56 \tAverage loss: 4.9559\tAverage Acc: 61.38 %\n",
            "Train Epoch: 57 \tLR: [0.00025] \tAverage Loss: 0.2834\tAverage Acc: 89.98 %\n",
            "Val Epoch: 57 \tAverage loss: 1.7739\tAverage Acc: 38.73 %\n",
            "Train Epoch: 58 \tLR: [0.00025] \tAverage Loss: 0.2443\tAverage Acc: 92.12 %\n",
            "Val Epoch: 58 \tAverage loss: 1.1819\tAverage Acc: 67.53 %\n",
            "Train Epoch: 59 \tLR: [0.00025] \tAverage Loss: 0.2560\tAverage Acc: 91.67 %\n",
            "Val Epoch: 59 \tAverage loss: 1.7554\tAverage Acc: 36.56 %\n",
            "Train Epoch: 60 \tLR: [0.00025] \tAverage Loss: 0.2546\tAverage Acc: 91.81 %\n",
            "Val Epoch: 60 \tAverage loss: 1.2060\tAverage Acc: 65.02 %\n",
            "Train Epoch: 61 \tLR: [0.000125] \tAverage Loss: 0.2264\tAverage Acc: 92.43 %\n",
            "Val Epoch: 61 \tAverage loss: 0.9403\tAverage Acc: 75.81 %\n",
            "Train Epoch: 62 \tLR: [0.000125] \tAverage Loss: 0.1722\tAverage Acc: 94.62 %\n",
            "Val Epoch: 62 \tAverage loss: 1.4500\tAverage Acc: 56.38 %\n",
            "Train Epoch: 63 \tLR: [0.000125] \tAverage Loss: 0.1947\tAverage Acc: 93.81 %\n",
            "Val Epoch: 63 \tAverage loss: 1.3105\tAverage Acc: 59.77 %\n",
            "Train Epoch: 64 \tLR: [0.000125] \tAverage Loss: 0.1650\tAverage Acc: 94.30 %\n",
            "Val Epoch: 64 \tAverage loss: 1.6882\tAverage Acc: 39.19 %\n",
            "Train Epoch: 65 \tLR: [0.000125] \tAverage Loss: 0.1917\tAverage Acc: 94.25 %\n",
            "Val Epoch: 65 \tAverage loss: 7.5068\tAverage Acc: 87.72 %\n",
            "Train Epoch: 66 \tLR: [0.000125] \tAverage Loss: 0.1678\tAverage Acc: 94.74 %\n",
            "Val Epoch: 66 \tAverage loss: 1.1646\tAverage Acc: 64.66 %\n",
            "Train Epoch: 67 \tLR: [0.000125] \tAverage Loss: 0.1798\tAverage Acc: 94.16 %\n",
            "Val Epoch: 67 \tAverage loss: 1.8185\tAverage Acc: 33.31 %\n",
            "Train Epoch: 68 \tLR: [0.000125] \tAverage Loss: 0.1879\tAverage Acc: 93.75 %\n",
            "Val Epoch: 68 \tAverage loss: 2.8571\tAverage Acc: 52.23 %\n",
            "Train Epoch: 69 \tLR: [0.000125] \tAverage Loss: 0.1803\tAverage Acc: 94.22 %\n",
            "Val Epoch: 69 \tAverage loss: 1.1723\tAverage Acc: 63.67 %\n",
            "Train Epoch: 70 \tLR: [0.000125] \tAverage Loss: 0.1684\tAverage Acc: 94.31 %\n",
            "Val Epoch: 70 \tAverage loss: 1.1701\tAverage Acc: 65.67 %\n",
            "Train Epoch: 71 \tLR: [0.000125] \tAverage Loss: 0.2070\tAverage Acc: 93.36 %\n",
            "Val Epoch: 71 \tAverage loss: 1.3836\tAverage Acc: 58.25 %\n",
            "Train Epoch: 72 \tLR: [0.000125] \tAverage Loss: 0.1833\tAverage Acc: 93.88 %\n",
            "Val Epoch: 72 \tAverage loss: 1.0235\tAverage Acc: 66.04 %\n",
            "Train Epoch: 73 \tLR: [0.000125] \tAverage Loss: 0.1578\tAverage Acc: 94.50 %\n",
            "Val Epoch: 73 \tAverage loss: 1.1954\tAverage Acc: 66.53 %\n",
            "Train Epoch: 74 \tLR: [0.000125] \tAverage Loss: 0.1504\tAverage Acc: 95.31 %\n",
            "Val Epoch: 74 \tAverage loss: 1.5306\tAverage Acc: 48.83 %\n",
            "Train Epoch: 75 \tLR: [0.000125] \tAverage Loss: 0.1526\tAverage Acc: 94.85 %\n",
            "Val Epoch: 75 \tAverage loss: 0.5890\tAverage Acc: 84.09 %\n",
            "Train Epoch: 76 \tLR: [0.000125] \tAverage Loss: 0.1568\tAverage Acc: 95.24 %\n",
            "Val Epoch: 76 \tAverage loss: 1.6544\tAverage Acc: 50.00 %\n",
            "Train Epoch: 77 \tLR: [0.000125] \tAverage Loss: 0.1588\tAverage Acc: 94.72 %\n",
            "Val Epoch: 77 \tAverage loss: 1.6558\tAverage Acc: 76.68 %\n",
            "Train Epoch: 78 \tLR: [0.000125] \tAverage Loss: 0.1789\tAverage Acc: 94.04 %\n",
            "Val Epoch: 78 \tAverage loss: 1.1481\tAverage Acc: 64.66 %\n",
            "Train Epoch: 79 \tLR: [0.000125] \tAverage Loss: 0.1848\tAverage Acc: 94.17 %\n",
            "Val Epoch: 79 \tAverage loss: 1.4753\tAverage Acc: 60.89 %\n",
            "Train Epoch: 80 \tLR: [0.000125] \tAverage Loss: 0.1920\tAverage Acc: 93.26 %\n",
            "Val Epoch: 80 \tAverage loss: 0.7827\tAverage Acc: 75.18 %\n",
            "Train Epoch: 81 \tLR: [6.25e-05] \tAverage Loss: 0.1445\tAverage Acc: 95.67 %\n",
            "Val Epoch: 81 \tAverage loss: 1.3697\tAverage Acc: 61.14 %\n",
            "Train Epoch: 82 \tLR: [6.25e-05] \tAverage Loss: 0.1629\tAverage Acc: 95.12 %\n",
            "Val Epoch: 82 \tAverage loss: 280.6851\tAverage Acc: 90.73 %\n",
            "Train Epoch: 83 \tLR: [6.25e-05] \tAverage Loss: 0.1947\tAverage Acc: 93.96 %\n",
            "Val Epoch: 83 \tAverage loss: 1.0463\tAverage Acc: 66.91 %\n",
            "Train Epoch: 84 \tLR: [6.25e-05] \tAverage Loss: 0.1620\tAverage Acc: 94.94 %\n",
            "Val Epoch: 84 \tAverage loss: 1.4855\tAverage Acc: 52.23 %\n",
            "Train Epoch: 85 \tLR: [6.25e-05] \tAverage Loss: 0.1309\tAverage Acc: 96.04 %\n",
            "Val Epoch: 85 \tAverage loss: 0.7783\tAverage Acc: 83.83 %\n",
            "Train Epoch: 86 \tLR: [6.25e-05] \tAverage Loss: 0.1156\tAverage Acc: 96.46 %\n",
            "Val Epoch: 86 \tAverage loss: 0.4971\tAverage Acc: 84.22 %\n",
            "Train Epoch: 87 \tLR: [6.25e-05] \tAverage Loss: 0.1080\tAverage Acc: 96.58 %\n",
            "Val Epoch: 87 \tAverage loss: 0.2912\tAverage Acc: 89.22 %\n",
            "Train Epoch: 88 \tLR: [6.25e-05] \tAverage Loss: 0.1280\tAverage Acc: 95.52 %\n",
            "Val Epoch: 88 \tAverage loss: 0.8740\tAverage Acc: 78.58 %\n",
            "Train Epoch: 89 \tLR: [6.25e-05] \tAverage Loss: 0.1057\tAverage Acc: 96.86 %\n",
            "Val Epoch: 89 \tAverage loss: 0.4721\tAverage Acc: 83.59 %\n",
            "Train Epoch: 90 \tLR: [6.25e-05] \tAverage Loss: 0.1091\tAverage Acc: 96.40 %\n",
            "Val Epoch: 90 \tAverage loss: 0.2587\tAverage Acc: 89.72 %\n",
            "Train Epoch: 91 \tLR: [6.25e-05] \tAverage Loss: 0.1087\tAverage Acc: 96.60 %\n",
            "Val Epoch: 91 \tAverage loss: 1.7369\tAverage Acc: 85.09 %\n",
            "Train Epoch: 92 \tLR: [6.25e-05] \tAverage Loss: 0.1100\tAverage Acc: 96.62 %\n",
            "Val Epoch: 92 \tAverage loss: 0.6532\tAverage Acc: 85.08 %\n",
            "Train Epoch: 93 \tLR: [6.25e-05] \tAverage Loss: 0.1351\tAverage Acc: 95.38 %\n",
            "Val Epoch: 93 \tAverage loss: 1.7062\tAverage Acc: 48.61 %\n",
            "Train Epoch: 94 \tLR: [6.25e-05] \tAverage Loss: 0.1251\tAverage Acc: 96.18 %\n",
            "Val Epoch: 94 \tAverage loss: 1.6963\tAverage Acc: 43.06 %\n",
            "Train Epoch: 95 \tLR: [6.25e-05] \tAverage Loss: 0.1136\tAverage Acc: 96.41 %\n",
            "Val Epoch: 95 \tAverage loss: 0.5452\tAverage Acc: 82.34 %\n",
            "Train Epoch: 96 \tLR: [6.25e-05] \tAverage Loss: 0.1149\tAverage Acc: 96.22 %\n",
            "Val Epoch: 96 \tAverage loss: 0.5109\tAverage Acc: 81.71 %\n",
            "Train Epoch: 97 \tLR: [6.25e-05] \tAverage Loss: 0.1106\tAverage Acc: 96.25 %\n",
            "Val Epoch: 97 \tAverage loss: 0.3672\tAverage Acc: 84.84 %\n",
            "Train Epoch: 98 \tLR: [6.25e-05] \tAverage Loss: 0.1337\tAverage Acc: 96.33 %\n",
            "Val Epoch: 98 \tAverage loss: 1.4601\tAverage Acc: 59.38 %\n",
            "Train Epoch: 99 \tLR: [6.25e-05] \tAverage Loss: 0.1257\tAverage Acc: 95.90 %\n",
            "Val Epoch: 99 \tAverage loss: 1.5446\tAverage Acc: 44.83 %\n",
            "Train Epoch: 100 \tLR: [6.25e-05] \tAverage Loss: 0.1262\tAverage Acc: 95.71 %\n",
            "Val Epoch: 100 \tAverage loss: 1.5410\tAverage Acc: 46.70 %\n",
            "Train Epoch: 101 \tLR: [3.125e-05] \tAverage Loss: 0.1226\tAverage Acc: 95.88 %\n",
            "Val Epoch: 101 \tAverage loss: 3.7348\tAverage Acc: 83.58 %\n",
            "Train Epoch: 102 \tLR: [3.125e-05] \tAverage Loss: 0.1087\tAverage Acc: 96.27 %\n",
            "Val Epoch: 102 \tAverage loss: 1.0966\tAverage Acc: 71.18 %\n",
            "Train Epoch: 103 \tLR: [3.125e-05] \tAverage Loss: 0.1010\tAverage Acc: 97.02 %\n",
            "Val Epoch: 103 \tAverage loss: 8.2318\tAverage Acc: 83.21 %\n",
            "Train Epoch: 104 \tLR: [3.125e-05] \tAverage Loss: 0.0895\tAverage Acc: 97.62 %\n",
            "Val Epoch: 104 \tAverage loss: 0.9760\tAverage Acc: 71.30 %\n",
            "Train Epoch: 105 \tLR: [3.125e-05] \tAverage Loss: 0.0983\tAverage Acc: 96.72 %\n",
            "Val Epoch: 105 \tAverage loss: 0.7044\tAverage Acc: 79.70 %\n",
            "Train Epoch: 106 \tLR: [3.125e-05] \tAverage Loss: 0.0898\tAverage Acc: 97.23 %\n",
            "Val Epoch: 106 \tAverage loss: 0.2634\tAverage Acc: 89.73 %\n",
            "Train Epoch: 107 \tLR: [3.125e-05] \tAverage Loss: 0.0890\tAverage Acc: 97.05 %\n",
            "Val Epoch: 107 \tAverage loss: 0.8596\tAverage Acc: 76.31 %\n",
            "Train Epoch: 108 \tLR: [3.125e-05] \tAverage Loss: 0.0960\tAverage Acc: 97.05 %\n",
            "Val Epoch: 108 \tAverage loss: 0.6230\tAverage Acc: 80.83 %\n",
            "Train Epoch: 109 \tLR: [3.125e-05] \tAverage Loss: 0.0888\tAverage Acc: 97.12 %\n",
            "Val Epoch: 109 \tAverage loss: 0.2962\tAverage Acc: 88.85 %\n",
            "Train Epoch: 110 \tLR: [3.125e-05] \tAverage Loss: 0.0808\tAverage Acc: 97.72 %\n",
            "Val Epoch: 110 \tAverage loss: 0.8101\tAverage Acc: 75.82 %\n",
            "Train Epoch: 111 \tLR: [3.125e-05] \tAverage Loss: 0.0903\tAverage Acc: 97.16 %\n",
            "Val Epoch: 111 \tAverage loss: 0.6185\tAverage Acc: 79.71 %\n",
            "Train Epoch: 112 \tLR: [3.125e-05] \tAverage Loss: 0.0784\tAverage Acc: 97.62 %\n",
            "Val Epoch: 112 \tAverage loss: 0.9656\tAverage Acc: 72.55 %\n",
            "Train Epoch: 113 \tLR: [3.125e-05] \tAverage Loss: 0.0986\tAverage Acc: 96.94 %\n",
            "Val Epoch: 113 \tAverage loss: 0.4135\tAverage Acc: 91.11 %\n",
            "Train Epoch: 114 \tLR: [3.125e-05] \tAverage Loss: 0.1081\tAverage Acc: 96.48 %\n",
            "Val Epoch: 114 \tAverage loss: 1.4992\tAverage Acc: 79.58 %\n",
            "Train Epoch: 115 \tLR: [3.125e-05] \tAverage Loss: 0.1000\tAverage Acc: 96.75 %\n",
            "Val Epoch: 115 \tAverage loss: 3.2171\tAverage Acc: 86.08 %\n",
            "Train Epoch: 116 \tLR: [3.125e-05] \tAverage Loss: 0.0970\tAverage Acc: 97.21 %\n",
            "Val Epoch: 116 \tAverage loss: 9.9043\tAverage Acc: 88.11 %\n",
            "Train Epoch: 117 \tLR: [3.125e-05] \tAverage Loss: 0.0955\tAverage Acc: 96.71 %\n",
            "Val Epoch: 117 \tAverage loss: 0.8425\tAverage Acc: 68.90 %\n",
            "Train Epoch: 118 \tLR: [3.125e-05] \tAverage Loss: 0.0790\tAverage Acc: 97.70 %\n",
            "Val Epoch: 118 \tAverage loss: 0.5187\tAverage Acc: 86.96 %\n",
            "Train Epoch: 119 \tLR: [3.125e-05] \tAverage Loss: 0.0994\tAverage Acc: 96.66 %\n",
            "Val Epoch: 119 \tAverage loss: 0.8370\tAverage Acc: 76.07 %\n",
            "Train Epoch: 120 \tLR: [3.125e-05] \tAverage Loss: 0.0871\tAverage Acc: 97.11 %\n",
            "Val Epoch: 120 \tAverage loss: 7.0036\tAverage Acc: 93.23 %\n",
            "Train Epoch: 121 \tLR: [1.5625e-05] \tAverage Loss: 0.0813\tAverage Acc: 97.37 %\n",
            "Val Epoch: 121 \tAverage loss: 0.5741\tAverage Acc: 80.33 %\n",
            "Train Epoch: 122 \tLR: [1.5625e-05] \tAverage Loss: 0.0735\tAverage Acc: 97.71 %\n",
            "Val Epoch: 122 \tAverage loss: 0.2407\tAverage Acc: 91.61 %\n",
            "Train Epoch: 123 \tLR: [1.5625e-05] \tAverage Loss: 0.0741\tAverage Acc: 97.81 %\n",
            "Val Epoch: 123 \tAverage loss: 0.4184\tAverage Acc: 94.86 %\n",
            "Train Epoch: 124 \tLR: [1.5625e-05] \tAverage Loss: 0.0787\tAverage Acc: 97.71 %\n",
            "Val Epoch: 124 \tAverage loss: 3.0752\tAverage Acc: 95.87 %\n",
            "Train Epoch: 125 \tLR: [1.5625e-05] \tAverage Loss: 0.0633\tAverage Acc: 98.31 %\n",
            "Val Epoch: 125 \tAverage loss: 0.6548\tAverage Acc: 86.47 %\n",
            "Train Epoch: 126 \tLR: [1.5625e-05] \tAverage Loss: 0.0668\tAverage Acc: 97.83 %\n",
            "Val Epoch: 126 \tAverage loss: 0.3088\tAverage Acc: 90.36 %\n",
            "Train Epoch: 127 \tLR: [1.5625e-05] \tAverage Loss: 0.0679\tAverage Acc: 97.93 %\n",
            "Val Epoch: 127 \tAverage loss: 0.5315\tAverage Acc: 86.46 %\n",
            "Train Epoch: 128 \tLR: [1.5625e-05] \tAverage Loss: 0.0802\tAverage Acc: 97.87 %\n",
            "Val Epoch: 128 \tAverage loss: 1.7270\tAverage Acc: 91.98 %\n",
            "Train Epoch: 129 \tLR: [1.5625e-05] \tAverage Loss: 0.0730\tAverage Acc: 97.58 %\n",
            "Val Epoch: 129 \tAverage loss: 0.6301\tAverage Acc: 92.48 %\n",
            "Train Epoch: 130 \tLR: [1.5625e-05] \tAverage Loss: 0.0754\tAverage Acc: 97.54 %\n",
            "Val Epoch: 130 \tAverage loss: 0.6038\tAverage Acc: 92.22 %\n",
            "Train Epoch: 131 \tLR: [1.5625e-05] \tAverage Loss: 0.0704\tAverage Acc: 97.53 %\n",
            "Val Epoch: 131 \tAverage loss: 16.1733\tAverage Acc: 95.86 %\n",
            "Train Epoch: 132 \tLR: [1.5625e-05] \tAverage Loss: 0.0680\tAverage Acc: 97.83 %\n",
            "Val Epoch: 132 \tAverage loss: 6.8713\tAverage Acc: 90.36 %\n",
            "Train Epoch: 133 \tLR: [1.5625e-05] \tAverage Loss: 0.0652\tAverage Acc: 98.12 %\n",
            "Val Epoch: 133 \tAverage loss: 1.2852\tAverage Acc: 93.61 %\n",
            "Train Epoch: 134 \tLR: [1.5625e-05] \tAverage Loss: 0.0655\tAverage Acc: 97.94 %\n",
            "Val Epoch: 134 \tAverage loss: 0.7246\tAverage Acc: 95.61 %\n",
            "Train Epoch: 135 \tLR: [1.5625e-05] \tAverage Loss: 0.0659\tAverage Acc: 98.09 %\n",
            "Val Epoch: 135 \tAverage loss: 0.8758\tAverage Acc: 78.83 %\n",
            "Train Epoch: 136 \tLR: [1.5625e-05] \tAverage Loss: 0.0598\tAverage Acc: 98.19 %\n",
            "Val Epoch: 136 \tAverage loss: 1.3778\tAverage Acc: 94.98 %\n",
            "Train Epoch: 137 \tLR: [1.5625e-05] \tAverage Loss: 0.0617\tAverage Acc: 98.21 %\n",
            "Val Epoch: 137 \tAverage loss: 0.8110\tAverage Acc: 90.60 %\n",
            "Train Epoch: 138 \tLR: [1.5625e-05] \tAverage Loss: 0.0682\tAverage Acc: 98.02 %\n",
            "Val Epoch: 138 \tAverage loss: 3.2815\tAverage Acc: 89.61 %\n",
            "Train Epoch: 139 \tLR: [1.5625e-05] \tAverage Loss: 0.0669\tAverage Acc: 97.80 %\n",
            "Val Epoch: 139 \tAverage loss: 1.1929\tAverage Acc: 60.77 %\n",
            "Train Epoch: 140 \tLR: [1.5625e-05] \tAverage Loss: 0.0681\tAverage Acc: 97.90 %\n",
            "Val Epoch: 140 \tAverage loss: 1.1991\tAverage Acc: 85.21 %\n",
            "Train Epoch: 141 \tLR: [7.8125e-06] \tAverage Loss: 0.0588\tAverage Acc: 98.22 %\n",
            "Val Epoch: 141 \tAverage loss: 1.2149\tAverage Acc: 95.62 %\n",
            "Train Epoch: 142 \tLR: [7.8125e-06] \tAverage Loss: 0.0554\tAverage Acc: 98.15 %\n",
            "Val Epoch: 142 \tAverage loss: 0.1868\tAverage Acc: 95.97 %\n",
            "Train Epoch: 143 \tLR: [7.8125e-06] \tAverage Loss: 0.0591\tAverage Acc: 98.25 %\n",
            "Val Epoch: 143 \tAverage loss: 0.5133\tAverage Acc: 94.73 %\n",
            "Train Epoch: 144 \tLR: [7.8125e-06] \tAverage Loss: 0.0566\tAverage Acc: 98.27 %\n",
            "Val Epoch: 144 \tAverage loss: 2.2530\tAverage Acc: 94.98 %\n",
            "Train Epoch: 145 \tLR: [7.8125e-06] \tAverage Loss: 0.0611\tAverage Acc: 98.09 %\n",
            "Val Epoch: 145 \tAverage loss: 10.5910\tAverage Acc: 96.00 %\n",
            "Train Epoch: 146 \tLR: [7.8125e-06] \tAverage Loss: 0.0621\tAverage Acc: 98.19 %\n",
            "Val Epoch: 146 \tAverage loss: 0.5513\tAverage Acc: 81.09 %\n",
            "Train Epoch: 147 \tLR: [7.8125e-06] \tAverage Loss: 0.0739\tAverage Acc: 97.65 %\n",
            "Val Epoch: 147 \tAverage loss: 8.8842\tAverage Acc: 95.49 %\n",
            "Train Epoch: 148 \tLR: [7.8125e-06] \tAverage Loss: 0.0570\tAverage Acc: 98.21 %\n",
            "Val Epoch: 148 \tAverage loss: 1.9293\tAverage Acc: 95.48 %\n",
            "Train Epoch: 149 \tLR: [7.8125e-06] \tAverage Loss: 0.0595\tAverage Acc: 98.23 %\n",
            "Val Epoch: 149 \tAverage loss: 0.5964\tAverage Acc: 81.21 %\n",
            "Train Epoch: 150 \tLR: [7.8125e-06] \tAverage Loss: 0.0647\tAverage Acc: 98.19 %\n",
            "Val Epoch: 150 \tAverage loss: 1.1896\tAverage Acc: 93.11 %\n",
            "Train Epoch: 151 \tLR: [7.8125e-06] \tAverage Loss: 0.0521\tAverage Acc: 98.44 %\n",
            "Val Epoch: 151 \tAverage loss: 1.6541\tAverage Acc: 95.36 %\n",
            "Train Epoch: 152 \tLR: [7.8125e-06] \tAverage Loss: 0.0556\tAverage Acc: 98.38 %\n",
            "Val Epoch: 152 \tAverage loss: 0.4758\tAverage Acc: 85.09 %\n",
            "Train Epoch: 153 \tLR: [7.8125e-06] \tAverage Loss: 0.0659\tAverage Acc: 97.90 %\n",
            "Val Epoch: 153 \tAverage loss: 0.4665\tAverage Acc: 85.84 %\n",
            "Train Epoch: 154 \tLR: [7.8125e-06] \tAverage Loss: 0.0561\tAverage Acc: 98.28 %\n",
            "Val Epoch: 154 \tAverage loss: 18.2003\tAverage Acc: 95.49 %\n",
            "Train Epoch: 155 \tLR: [7.8125e-06] \tAverage Loss: 0.0534\tAverage Acc: 98.40 %\n",
            "Val Epoch: 155 \tAverage loss: 1.7543\tAverage Acc: 87.33 %\n",
            "Train Epoch: 156 \tLR: [7.8125e-06] \tAverage Loss: 0.0557\tAverage Acc: 98.49 %\n",
            "Val Epoch: 156 \tAverage loss: 6.5413\tAverage Acc: 87.09 %\n",
            "Train Epoch: 157 \tLR: [7.8125e-06] \tAverage Loss: 0.0524\tAverage Acc: 98.19 %\n",
            "Val Epoch: 157 \tAverage loss: 0.4641\tAverage Acc: 95.24 %\n",
            "Train Epoch: 158 \tLR: [7.8125e-06] \tAverage Loss: 0.0509\tAverage Acc: 98.52 %\n",
            "Val Epoch: 158 \tAverage loss: 0.2826\tAverage Acc: 89.36 %\n",
            "Train Epoch: 159 \tLR: [7.8125e-06] \tAverage Loss: 0.0555\tAverage Acc: 98.22 %\n",
            "Val Epoch: 159 \tAverage loss: 0.5215\tAverage Acc: 94.36 %\n",
            "Train Epoch: 160 \tLR: [7.8125e-06] \tAverage Loss: 0.0548\tAverage Acc: 98.43 %\n",
            "Val Epoch: 160 \tAverage loss: 0.5686\tAverage Acc: 80.58 %\n",
            "Train Epoch: 161 \tLR: [3.90625e-06] \tAverage Loss: 0.0506\tAverage Acc: 98.50 %\n",
            "Val Epoch: 161 \tAverage loss: 4.2910\tAverage Acc: 94.12 %\n",
            "Train Epoch: 162 \tLR: [3.90625e-06] \tAverage Loss: 0.0553\tAverage Acc: 98.59 %\n",
            "Val Epoch: 162 \tAverage loss: 1.2349\tAverage Acc: 95.38 %\n",
            "Train Epoch: 163 \tLR: [3.90625e-06] \tAverage Loss: 0.0537\tAverage Acc: 98.44 %\n",
            "Val Epoch: 163 \tAverage loss: 2.8853\tAverage Acc: 94.25 %\n",
            "Train Epoch: 164 \tLR: [3.90625e-06] \tAverage Loss: 0.0492\tAverage Acc: 98.50 %\n",
            "Val Epoch: 164 \tAverage loss: 0.3955\tAverage Acc: 95.48 %\n",
            "Train Epoch: 165 \tLR: [3.90625e-06] \tAverage Loss: 0.0527\tAverage Acc: 98.53 %\n",
            "Val Epoch: 165 \tAverage loss: 1.5195\tAverage Acc: 90.36 %\n",
            "Train Epoch: 166 \tLR: [3.90625e-06] \tAverage Loss: 0.0588\tAverage Acc: 98.23 %\n",
            "Val Epoch: 166 \tAverage loss: 0.6568\tAverage Acc: 85.20 %\n",
            "Train Epoch: 167 \tLR: [3.90625e-06] \tAverage Loss: 0.0524\tAverage Acc: 98.50 %\n",
            "Val Epoch: 167 \tAverage loss: 0.7995\tAverage Acc: 94.75 %\n",
            "Train Epoch: 168 \tLR: [3.90625e-06] \tAverage Loss: 0.0488\tAverage Acc: 98.56 %\n",
            "Val Epoch: 168 \tAverage loss: 5.0608\tAverage Acc: 95.62 %\n",
            "Train Epoch: 169 \tLR: [3.90625e-06] \tAverage Loss: 0.0478\tAverage Acc: 98.65 %\n",
            "Val Epoch: 169 \tAverage loss: 0.4713\tAverage Acc: 84.71 %\n",
            "Train Epoch: 170 \tLR: [3.90625e-06] \tAverage Loss: 0.0563\tAverage Acc: 98.34 %\n",
            "Val Epoch: 170 \tAverage loss: 3.4618\tAverage Acc: 93.11 %\n",
            "Train Epoch: 171 \tLR: [3.90625e-06] \tAverage Loss: 0.0682\tAverage Acc: 97.66 %\n",
            "Val Epoch: 171 \tAverage loss: 0.4441\tAverage Acc: 85.84 %\n",
            "Train Epoch: 172 \tLR: [3.90625e-06] \tAverage Loss: 0.0479\tAverage Acc: 98.75 %\n",
            "Val Epoch: 172 \tAverage loss: 17.7200\tAverage Acc: 95.00 %\n",
            "Train Epoch: 173 \tLR: [3.90625e-06] \tAverage Loss: 0.0527\tAverage Acc: 98.22 %\n",
            "Val Epoch: 173 \tAverage loss: 1.6125\tAverage Acc: 95.87 %\n",
            "Train Epoch: 174 \tLR: [3.90625e-06] \tAverage Loss: 0.0509\tAverage Acc: 98.47 %\n",
            "Val Epoch: 174 \tAverage loss: 0.5432\tAverage Acc: 82.83 %\n",
            "Train Epoch: 175 \tLR: [3.90625e-06] \tAverage Loss: 0.0547\tAverage Acc: 98.49 %\n",
            "Val Epoch: 175 \tAverage loss: 2.0953\tAverage Acc: 95.87 %\n",
            "Train Epoch: 176 \tLR: [3.90625e-06] \tAverage Loss: 0.0628\tAverage Acc: 97.92 %\n",
            "Val Epoch: 176 \tAverage loss: 23.2288\tAverage Acc: 95.99 %\n",
            "Train Epoch: 177 \tLR: [3.90625e-06] \tAverage Loss: 0.0552\tAverage Acc: 98.41 %\n",
            "Val Epoch: 177 \tAverage loss: 1.0580\tAverage Acc: 67.80 %\n",
            "Train Epoch: 178 \tLR: [3.90625e-06] \tAverage Loss: 0.0477\tAverage Acc: 98.53 %\n",
            "Val Epoch: 178 \tAverage loss: 1.5677\tAverage Acc: 91.98 %\n",
            "Train Epoch: 179 \tLR: [3.90625e-06] \tAverage Loss: 0.0514\tAverage Acc: 98.52 %\n",
            "Val Epoch: 179 \tAverage loss: 3.0021\tAverage Acc: 86.85 %\n",
            "Train Epoch: 180 \tLR: [3.90625e-06] \tAverage Loss: 0.0522\tAverage Acc: 98.68 %\n",
            "Val Epoch: 180 \tAverage loss: 11.8559\tAverage Acc: 96.12 %\n",
            "Train Epoch: 181 \tLR: [1.953125e-06] \tAverage Loss: 0.0496\tAverage Acc: 98.55 %\n",
            "Val Epoch: 181 \tAverage loss: 2.0768\tAverage Acc: 87.47 %\n",
            "Train Epoch: 182 \tLR: [1.953125e-06] \tAverage Loss: 0.0609\tAverage Acc: 98.12 %\n",
            "Val Epoch: 182 \tAverage loss: 1.6835\tAverage Acc: 95.25 %\n",
            "Train Epoch: 183 \tLR: [1.953125e-06] \tAverage Loss: 0.0574\tAverage Acc: 98.16 %\n",
            "Val Epoch: 183 \tAverage loss: 0.8160\tAverage Acc: 83.58 %\n",
            "Train Epoch: 184 \tLR: [1.953125e-06] \tAverage Loss: 0.0459\tAverage Acc: 98.61 %\n",
            "Val Epoch: 184 \tAverage loss: 4.1092\tAverage Acc: 84.21 %\n",
            "Train Epoch: 185 \tLR: [1.953125e-06] \tAverage Loss: 0.0535\tAverage Acc: 98.58 %\n",
            "Val Epoch: 185 \tAverage loss: 0.4819\tAverage Acc: 95.88 %\n",
            "Train Epoch: 186 \tLR: [1.953125e-06] \tAverage Loss: 0.0456\tAverage Acc: 98.78 %\n",
            "Val Epoch: 186 \tAverage loss: 4.0985\tAverage Acc: 90.86 %\n",
            "Train Epoch: 187 \tLR: [1.953125e-06] \tAverage Loss: 0.0517\tAverage Acc: 98.58 %\n",
            "Val Epoch: 187 \tAverage loss: 98.6547\tAverage Acc: 95.38 %\n",
            "Train Epoch: 188 \tLR: [1.953125e-06] \tAverage Loss: 0.0444\tAverage Acc: 98.78 %\n",
            "Val Epoch: 188 \tAverage loss: 0.9405\tAverage Acc: 95.12 %\n",
            "Train Epoch: 189 \tLR: [1.953125e-06] \tAverage Loss: 0.0435\tAverage Acc: 98.83 %\n",
            "Val Epoch: 189 \tAverage loss: 0.3722\tAverage Acc: 92.86 %\n",
            "Train Epoch: 190 \tLR: [1.953125e-06] \tAverage Loss: 0.0524\tAverage Acc: 98.38 %\n",
            "Val Epoch: 190 \tAverage loss: 2.1776\tAverage Acc: 96.38 %\n",
            "Train Epoch: 191 \tLR: [1.953125e-06] \tAverage Loss: 0.0498\tAverage Acc: 98.50 %\n",
            "Val Epoch: 191 \tAverage loss: 0.5115\tAverage Acc: 91.36 %\n",
            "Train Epoch: 192 \tLR: [1.953125e-06] \tAverage Loss: 0.0528\tAverage Acc: 98.31 %\n",
            "Val Epoch: 192 \tAverage loss: 9.8505\tAverage Acc: 95.61 %\n",
            "Train Epoch: 193 \tLR: [1.953125e-06] \tAverage Loss: 0.0389\tAverage Acc: 99.03 %\n",
            "Val Epoch: 193 \tAverage loss: 5.6244\tAverage Acc: 94.38 %\n",
            "Train Epoch: 194 \tLR: [1.953125e-06] \tAverage Loss: 0.0527\tAverage Acc: 98.40 %\n",
            "Val Epoch: 194 \tAverage loss: 0.5895\tAverage Acc: 80.83 %\n",
            "Train Epoch: 195 \tLR: [1.953125e-06] \tAverage Loss: 0.0507\tAverage Acc: 98.55 %\n",
            "Val Epoch: 195 \tAverage loss: 17.9305\tAverage Acc: 95.99 %\n",
            "Train Epoch: 196 \tLR: [1.953125e-06] \tAverage Loss: 0.0533\tAverage Acc: 98.21 %\n",
            "Val Epoch: 196 \tAverage loss: 2.8378\tAverage Acc: 89.36 %\n",
            "Train Epoch: 197 \tLR: [1.953125e-06] \tAverage Loss: 0.0563\tAverage Acc: 98.30 %\n",
            "Val Epoch: 197 \tAverage loss: 0.5870\tAverage Acc: 81.33 %\n",
            "Train Epoch: 198 \tLR: [1.953125e-06] \tAverage Loss: 0.0541\tAverage Acc: 98.31 %\n",
            "Val Epoch: 198 \tAverage loss: 0.3597\tAverage Acc: 91.98 %\n",
            "Train Epoch: 199 \tLR: [1.953125e-06] \tAverage Loss: 0.0472\tAverage Acc: 98.62 %\n",
            "Val Epoch: 199 \tAverage loss: 41.7796\tAverage Acc: 95.38 %\n",
            "Train Epoch: 200 \tLR: [1.953125e-06] \tAverage Loss: 0.0424\tAverage Acc: 98.81 %\n",
            "Val Epoch: 200 \tAverage loss: 23.8942\tAverage Acc: 95.00 %\n",
            "Best validation accuracy =  96.375\n"
          ],
          "name": "stdout"
        }
      ]
    }
  ]
}
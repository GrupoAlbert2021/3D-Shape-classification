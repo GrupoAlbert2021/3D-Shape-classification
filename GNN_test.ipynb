{
  "nbformat": 4,
  "nbformat_minor": 0,
  "metadata": {
    "colab": {
      "name": "GNN_test.ipynb",
      "provenance": [],
      "collapsed_sections": [],
      "toc_visible": true,
      "include_colab_link": true
    },
    "kernelspec": {
      "display_name": "Python 3",
      "name": "python3"
    },
    "accelerator": "GPU"
  },
  "cells": [
    {
      "cell_type": "markdown",
      "metadata": {
        "id": "view-in-github",
        "colab_type": "text"
      },
      "source": [
        "<a href=\"https://colab.research.google.com/github/g4aidl-upc-winter-2020/3D-Shape-classification/blob/main/GNN_test.ipynb\" target=\"_parent\"><img src=\"https://colab.research.google.com/assets/colab-badge.svg\" alt=\"Open In Colab\"/></a>"
      ]
    },
    {
      "cell_type": "code",
      "metadata": {
        "id": "dmVCqPwQbzhU",
        "colab": {
          "base_uri": "https://localhost:8080/"
        },
        "outputId": "eec57a16-62e3-4a9f-fa03-990f87639905"
      },
      "source": [
        "# Install all needed packages from PyG:\r\n",
        "!pip install -q torch-scatter -f https://pytorch-geometric.com/whl/torch-1.8.0+cu101.html\r\n",
        "!pip install -q torch-sparse -f https://pytorch-geometric.com/whl/torch-1.8.0+cu101.html\r\n",
        "!pip install -q torch-cluster -f https://pytorch-geometric.com/whl/torch-1.8.0+cu101.html\r\n",
        "!pip install -q torch-geometric"
      ],
      "execution_count": 1,
      "outputs": [
        {
          "output_type": "stream",
          "text": [
            "\u001b[K     |████████████████████████████████| 2.6MB 7.7MB/s \n",
            "\u001b[K     |████████████████████████████████| 1.5MB 7.8MB/s \n",
            "\u001b[K     |████████████████████████████████| 1.0MB 6.6MB/s \n",
            "\u001b[K     |████████████████████████████████| 194kB 7.2MB/s \n",
            "\u001b[K     |████████████████████████████████| 235kB 25.6MB/s \n",
            "\u001b[K     |████████████████████████████████| 2.2MB 26.1MB/s \n",
            "\u001b[K     |████████████████████████████████| 51kB 8.7MB/s \n",
            "\u001b[?25h  Building wheel for torch-geometric (setup.py) ... \u001b[?25l\u001b[?25hdone\n"
          ],
          "name": "stdout"
        }
      ]
    },
    {
      "cell_type": "code",
      "metadata": {
        "id": "yoFs-MOrKVw8"
      },
      "source": [
        "import torch\r\n",
        "from torch_geometric.datasets import ModelNet\r\n",
        "from torch_geometric.data import DataLoader\r\n",
        "from torch_geometric.utils import to_dense_batch\r\n",
        "import torch_geometric.transforms as T\r\n",
        "from torch_geometric.transforms import SamplePoints, KNNGraph, NormalizeScale, Compose\r\n",
        "\r\n",
        "import matplotlib.pyplot as plt\r\n",
        "\r\n",
        "import sys\r\n",
        "\r\n",
        "from sklearn.metrics import confusion_matrix"
      ],
      "execution_count": 2,
      "outputs": []
    },
    {
      "cell_type": "markdown",
      "metadata": {
        "id": "IhBEyBDMKTJU"
      },
      "source": [
        "## Set a fixed seed"
      ]
    },
    {
      "cell_type": "code",
      "metadata": {
        "id": "QTbPwkkZKTR6"
      },
      "source": [
        "seed = 42\r\n",
        "\r\n",
        "#Controlling sources of randomness\r\n",
        "torch.manual_seed(seed)  #Sets the seed for generating random numbers for all devices (both CPU and CUDA)\r\n",
        "\r\n",
        "#CUDA convolution benchmarking\r\n",
        "torch.backends.cudnn.benchmark = False #ensures that CUDA selects the same algorithm each time an application is run\r\n"
      ],
      "execution_count": 3,
      "outputs": []
    },
    {
      "cell_type": "markdown",
      "metadata": {
        "id": "HIIJQi7aQBc6"
      },
      "source": [
        "## Hyper-parameters"
      ]
    },
    {
      "cell_type": "code",
      "metadata": {
        "id": "c6OmxuflQBj9"
      },
      "source": [
        "test_batch_size = 32\r\n",
        "graph_type = 'GAT'        # 'GCN', 'GAT'  "
      ],
      "execution_count": 4,
      "outputs": []
    },
    {
      "cell_type": "markdown",
      "metadata": {
        "id": "xjmlxjFGO6UW"
      },
      "source": [
        "### Import drive folder"
      ]
    },
    {
      "cell_type": "code",
      "metadata": {
        "id": "3an0luY9O7Dm",
        "colab": {
          "base_uri": "https://localhost:8080/"
        },
        "outputId": "01476d3e-a8bc-45e5-a378-8df8b97dff22"
      },
      "source": [
        "from google.colab import drive\r\n",
        "drive.mount('/content/drive')"
      ],
      "execution_count": 5,
      "outputs": [
        {
          "output_type": "stream",
          "text": [
            "Mounted at /content/drive\n"
          ],
          "name": "stdout"
        }
      ]
    },
    {
      "cell_type": "markdown",
      "metadata": {
        "id": "vCrbSl8Gl7J_"
      },
      "source": [
        "# PointNet"
      ]
    },
    {
      "cell_type": "markdown",
      "metadata": {
        "id": "RCAtJTBHOWA-"
      },
      "source": [
        "## Dataset"
      ]
    },
    {
      "cell_type": "code",
      "metadata": {
        "id": "p7S0n1sucFeF"
      },
      "source": [
        "# Import ModelNet10 dataset from PyG\r\n",
        "test_dataset = ModelNet(root='/content/drive/MyDrive/Proyecto/Colabs/ModelNet', name=\"10\", train=False, pre_transform=T.SamplePoints(num=1024))  #test dataset"
      ],
      "execution_count": 6,
      "outputs": []
    },
    {
      "cell_type": "code",
      "metadata": {
        "id": "EU1KoIQPdsxH",
        "colab": {
          "base_uri": "https://localhost:8080/"
        },
        "outputId": "2195ec38-534c-4d9e-a84d-718253ab9c8a"
      },
      "source": [
        "print('Dataset info:')\r\n",
        "print('--------------')\r\n",
        "print('Test dataset size: ', len(test_dataset))"
      ],
      "execution_count": 7,
      "outputs": [
        {
          "output_type": "stream",
          "text": [
            "Dataset info:\n",
            "--------------\n",
            "Test dataset size:  908\n"
          ],
          "name": "stdout"
        }
      ]
    },
    {
      "cell_type": "markdown",
      "metadata": {
        "id": "KRTCzq1itWD0"
      },
      "source": [
        "### Graph Generation and Normalize Input Features"
      ]
    },
    {
      "cell_type": "code",
      "metadata": {
        "id": "xFftls3CtWO3",
        "colab": {
          "base_uri": "https://localhost:8080/"
        },
        "outputId": "7aeb17a3-33aa-450e-afd9-47983ff42c3a"
      },
      "source": [
        "#Input features normalization\r\n",
        "test_dataset.transform = Compose([NormalizeScale(), KNNGraph(k=9, loop=True, force_undirected=True)]) #Creates a k-NN undirected graph based on node positions pos\r\n",
        "\r\n",
        "print(f'Dataset: {test_dataset}:')\r\n",
        "print('====================')\r\n",
        "print(f'Number of testing graphs: {len(test_dataset)}')\r\n",
        "print(f'Number of features: {test_dataset.num_features}')\r\n",
        "print(f'Number of classes: {test_dataset.num_classes}')"
      ],
      "execution_count": 8,
      "outputs": [
        {
          "output_type": "stream",
          "text": [
            "Dataset: ModelNet10(908):\n",
            "====================\n",
            "Number of testing graphs: 908\n",
            "Number of features: 0\n",
            "Number of classes: 10\n"
          ],
          "name": "stdout"
        }
      ]
    },
    {
      "cell_type": "markdown",
      "metadata": {
        "id": "dqKKlR2Wttks"
      },
      "source": [
        "This dataset provides **908 different graphs**, and the task is to classify each graph into **one out of 10 classes**"
      ]
    },
    {
      "cell_type": "code",
      "metadata": {
        "id": "WW1oCaXyttta",
        "colab": {
          "base_uri": "https://localhost:8080/"
        },
        "outputId": "3c8d8985-7f7b-468e-eae5-f13a0a68ce3e"
      },
      "source": [
        "data = test_dataset[0] # Get the first test graph object.\r\n",
        "print(data)\r\n",
        "print('=============================================================')\r\n",
        "\r\n",
        "# Gather some statistics about the previous graph.\r\n",
        "print(f'Number of nodes: {data.num_nodes}')\r\n",
        "print(f'Number of edges: {data.num_edges}')\r\n",
        "print(f'Average node degree: {data.num_edges / data.num_nodes:.2f}')\r\n",
        "print(f'Contains isolated nodes: {data.contains_isolated_nodes()}')\r\n",
        "print(f'Contains self-loops: {data.contains_self_loops()}')\r\n",
        "print(f'Is directed: {data.is_directed()}')"
      ],
      "execution_count": 9,
      "outputs": [
        {
          "output_type": "stream",
          "text": [
            "Data(edge_index=[2, 10744], pos=[1024, 3], y=[1])\n",
            "=============================================================\n",
            "Number of nodes: 1024\n",
            "Number of edges: 10744\n",
            "Average node degree: 10.49\n",
            "Contains isolated nodes: False\n",
            "Contains self-loops: True\n",
            "Is directed: False\n"
          ],
          "name": "stdout"
        }
      ]
    },
    {
      "cell_type": "markdown",
      "metadata": {
        "id": "KIzUbHghu0K_"
      },
      "source": [
        "By inspecting the first graph object of the train dataset, we can see that it comes with **1024 nodes (with 3-dimensional spatial vectors)** and **10744 edges** (leading to an average node degree of 9). It also comes with exactly **one graph label** (`y=[1]`)."
      ]
    },
    {
      "cell_type": "markdown",
      "metadata": {
        "id": "YbyoTU29DvDy"
      },
      "source": [
        "## Testing"
      ]
    },
    {
      "cell_type": "markdown",
      "metadata": {
        "id": "GVADHsQOLE5R"
      },
      "source": [
        "### Make sure your runtime has a GPU"
      ]
    },
    {
      "cell_type": "code",
      "metadata": {
        "id": "FoO0XuudLFOT"
      },
      "source": [
        "device = torch.device(\"cuda:0\" if torch.cuda.is_available() else \"cpu\")\r\n",
        "assert not device.type == 'cpu', \"Change Runtime Type -> GPU\""
      ],
      "execution_count": 10,
      "outputs": []
    },
    {
      "cell_type": "markdown",
      "metadata": {
        "id": "OkyrnD7K3IaE"
      },
      "source": [
        "### Loading the model architecture"
      ]
    },
    {
      "cell_type": "code",
      "metadata": {
        "id": "j_NUtGjHqIsm",
        "colab": {
          "base_uri": "https://localhost:8080/"
        },
        "outputId": "ba4396b1-5e39-4ac8-bbee-b75c031762f4"
      },
      "source": [
        "# import the architecture class from a python script\r\n",
        "\r\n",
        "if graph_type == 'GCN':\r\n",
        "  \r\n",
        "  #We include a new file path that will point to modules the we want to import\r\n",
        "  sys.path.append('/content/drive/MyDrive/Proyecto/Colabs/architectures/GCN')\r\n",
        "\r\n",
        "  ## Possibilities \r\n",
        "  #from GCN_Architecture_BatchNorm_AVGpool import GCN\r\n",
        "  #from GCN_Architecture_BatchNorm_MAXpool import GCN\r\n",
        "  from GCN_Architecture_BatchNorm_DoubleCapacity_MAXpool import GCN\r\n",
        "  #from GCN_Architecture_BatchNorm_DoubleCapacity_Dropout_MAXpool import GCN\r\n",
        "  ##\r\n",
        "  model = GCN()                     # instantiate the model\r\n",
        "  \r\n",
        "else:\r\n",
        "  #We include a new file path that will point to modules the we want to import\r\n",
        "  sys.path.append('/content/drive/MyDrive/Proyecto/Colabs/architectures/GAT')  \r\n",
        "\r\n",
        "  ## Possibilities\r\n",
        "  #from GAT_Architecture_BatchNorm_4heads_MAXpool import GAT\r\n",
        "  #from GAT_Architecture_BatchNorm_2heads_MAXpool import GAT\r\n",
        "  from GAT_Architecture_BatchNorm_8heads_MAXpool import GAT\r\n",
        "  #from GAT_Architecture_BatchNorm_8heads_MAXpool_AVG import GAT\r\n",
        "  #from GAT_Architecture_BatchNorm_8heads_MAXpool_Dropout import GAT\r\n",
        "  ##\r\n",
        "  model = GAT()\r\n",
        "\r\n",
        "model.to(device)   # Pass the model to GPU(device)"
      ],
      "execution_count": 11,
      "outputs": [
        {
          "output_type": "execute_result",
          "data": {
            "text/plain": [
              "GAT(\n",
              "  (conv1): GATConv(3, 16, heads=8)\n",
              "  (conv2): GATConv(128, 32, heads=8)\n",
              "  (conv3): GATConv(256, 64, heads=8)\n",
              "  (fc): Linear(in_features=512, out_features=10, bias=True)\n",
              "  (bn1): BatchNorm1d(128, eps=1e-05, momentum=0.1, affine=True, track_running_stats=True)\n",
              "  (bn2): BatchNorm1d(256, eps=1e-05, momentum=0.1, affine=True, track_running_stats=True)\n",
              "  (bn3): BatchNorm1d(512, eps=1e-05, momentum=0.1, affine=True, track_running_stats=True)\n",
              ")"
            ]
          },
          "metadata": {
            "tags": []
          },
          "execution_count": 11
        }
      ]
    },
    {
      "cell_type": "markdown",
      "metadata": {
        "id": "K85UkXed3ZB_"
      },
      "source": [
        "### Loading best parameters from training "
      ]
    },
    {
      "cell_type": "code",
      "metadata": {
        "id": "krkfMn-rs-yI",
        "colab": {
          "base_uri": "https://localhost:8080/"
        },
        "outputId": "30ead18e-b634-422a-9842-b7faeb460adb"
      },
      "source": [
        "model.load_state_dict(torch.load('/content/drive/MyDrive/Proyecto/Colabs/experiments/logs/GAT/GAT_InitLR0.001_8heads_RandomFlip (concat)/train/best_params.pt'))  #Change directory to load the best params of the model"
      ],
      "execution_count": 12,
      "outputs": [
        {
          "output_type": "execute_result",
          "data": {
            "text/plain": [
              "<All keys matched successfully>"
            ]
          },
          "metadata": {
            "tags": []
          },
          "execution_count": 12
        }
      ]
    },
    {
      "cell_type": "markdown",
      "metadata": {
        "id": "OQLy12AoN6Lj"
      },
      "source": [
        "### Dataloader"
      ]
    },
    {
      "cell_type": "code",
      "metadata": {
        "id": "mhMOsGbtC8GR"
      },
      "source": [
        "test_loader = DataLoader(test_dataset, batch_size= test_batch_size)"
      ],
      "execution_count": 13,
      "outputs": []
    },
    {
      "cell_type": "markdown",
      "metadata": {
        "id": "Nlm2mlk4tOYd"
      },
      "source": [
        "### Test"
      ]
    },
    {
      "cell_type": "code",
      "metadata": {
        "id": "PMqqd2nEDvjL",
        "colab": {
          "base_uri": "https://localhost:8080/"
        },
        "outputId": "31611d85-d557-48ac-d2e1-b9c3ae223a3b"
      },
      "source": [
        "model.eval()\r\n",
        "with torch.no_grad():\r\n",
        "  total=correct=0\r\n",
        "  all_preds = []\r\n",
        "  all_labels = []\r\n",
        "  for data in test_loader:\r\n",
        "      \r\n",
        "      output = model(data.pos.to(device), data.edge_index.to(device), data.batch.to(device))  \r\n",
        "      \r\n",
        "      _, preds = torch.max(output.to(device), 1) # We get the maximum prediction value (correct category) for each pointcloud in the batch\r\n",
        "      \r\n",
        "      total += data.y.size(0)  # total number of samples in the test_loader\r\n",
        "      \r\n",
        "      correct += (preds == data.y.to(device)).sum().item()  #number of total correct predictions in the test_loader\r\n",
        "      \r\n",
        "      all_preds += list(preds.cpu().numpy())\r\n",
        "      all_labels += list(data.y.cpu().numpy())\r\n",
        "\r\n",
        "val_acc = 100. * (correct / total)\r\n",
        "print('Test accuracy: {:.2f} %'.format(val_acc))"
      ],
      "execution_count": 14,
      "outputs": [
        {
          "output_type": "stream",
          "text": [
            "Test accuracy: 90.09 %\n"
          ],
          "name": "stdout"
        }
      ]
    },
    {
      "cell_type": "markdown",
      "metadata": {
        "id": "eKcijl27F4Vt"
      },
      "source": [
        "##Metrics"
      ]
    },
    {
      "cell_type": "markdown",
      "metadata": {
        "id": "UbKwJ7amYoz_"
      },
      "source": [
        "### Confusion Matrix"
      ]
    },
    {
      "cell_type": "code",
      "metadata": {
        "id": "fUba6shlIjxF"
      },
      "source": [
        "#ClassesNames = ['Bathtub', 'Bed', 'Chair', 'Desk', 'Dresser', 'Monitor', 'Night_Stand', 'Sofa', 'Table', 'Toilet']\r\n",
        "#Classes = [0, 1, 2, 3, 4, 5, 6, 7, 8, 9]"
      ],
      "execution_count": 15,
      "outputs": []
    },
    {
      "cell_type": "code",
      "metadata": {
        "id": "3gkL--bNV0ee",
        "colab": {
          "base_uri": "https://localhost:8080/"
        },
        "outputId": "ff809548-505a-4e8a-f0f7-c8d34123c095"
      },
      "source": [
        "cm =confusion_matrix(all_labels, all_preds)\r\n",
        "cm"
      ],
      "execution_count": 16,
      "outputs": [
        {
          "output_type": "execute_result",
          "data": {
            "text/plain": [
              "array([[ 42,   5,   0,   0,   0,   0,   0,   0,   2,   1],\n",
              "       [  0,  97,   1,   1,   0,   0,   0,   0,   1,   0],\n",
              "       [  0,   0, 100,   0,   0,   0,   0,   0,   0,   0],\n",
              "       [  0,   1,   0,  73,   3,   0,   1,   3,   5,   0],\n",
              "       [  0,   0,   0,   1,  72,   1,  11,   0,   1,   0],\n",
              "       [  0,   0,   1,   0,   0,  98,   1,   0,   0,   0],\n",
              "       [  0,   0,   0,   0,  16,   1,  64,   0,   5,   0],\n",
              "       [  0,   0,   0,   0,   2,   0,   1,  97,   0,   0],\n",
              "       [  0,   0,   0,  23,   0,   0,   1,   0,  76,   0],\n",
              "       [  0,   0,   1,   0,   0,   0,   0,   0,   0,  99]])"
            ]
          },
          "metadata": {
            "tags": []
          },
          "execution_count": 16
        }
      ]
    },
    {
      "cell_type": "markdown",
      "metadata": {
        "id": "6QWKsLmOYtt4"
      },
      "source": [
        "### Precision and Recall"
      ]
    },
    {
      "cell_type": "code",
      "metadata": {
        "id": "X3GQ5EHiDjVB",
        "colab": {
          "base_uri": "https://localhost:8080/"
        },
        "outputId": "2746fac3-cf3d-413d-dd89-fbc215341e1e"
      },
      "source": [
        "##Our implementation of computing Precision and recall scores per class\r\n",
        "\r\n",
        "dim = cm.shape[0]\r\n",
        "ClassesNames = ['Bathtub', 'Bed', 'Chair', 'Desk', 'Dresser', 'Monitor', 'Night_Stand', 'Sofa', 'Table', 'Toilet']\r\n",
        "# Precision = TP / (TP + FP)\r\n",
        "# Recall = TP / (TP + FN)\r\n",
        "Precision = []\r\n",
        "Recall = []\r\n",
        "Correct = 0\r\n",
        "Samples = 0\r\n",
        "PrecisionWAvg = 0\r\n",
        "RecallWAvg = 0\r\n",
        "for i in range(0, dim):\r\n",
        "  TP = cm[i,i]  #Diagonal value (TP)\r\n",
        "  FPc = 0\r\n",
        "  FNc = 0\r\n",
        "  for j in range(0, dim):\r\n",
        "    Samples += cm[i,j]\r\n",
        "    FNc += cm[i,j]  #Add all line values\r\n",
        "    FPc += cm[j,i]  #Add all column values\r\n",
        "  FN = FNc - TP   #Substract diagonal value (TP)\r\n",
        "  FP = FPc - TP   #Substract diagonal value (TP)\r\n",
        "  Correct += TP\r\n",
        "  if TP==0:\r\n",
        "    Precision.append(0)\r\n",
        "    Recall.append(0)\r\n",
        "  else:  \r\n",
        "    Precision.append(100*(TP/(TP+FP)))\r\n",
        "    Recall.append(100*(TP/(TP+FN)))\r\n",
        "    PrecisionWAvg+=100*(TP/(TP+FP))*(TP+FN)\r\n",
        "    RecallWAvg+=100*(TP/(TP+FN))*(TP+FN)\r\n",
        "\r\n",
        "  print(ClassesNames[i], \"\\n\\tPrecision: {:.2f}% \\tRecall: {:.2f}%\".format(Precision[i],Recall[i]))\r\n",
        "  print(\"\\tTP:\", TP,\"  FP:\", FP,\"  FN:\", FN,\"  Samples in Test:\",TP+FN)\r\n",
        "\r\n",
        "print(\"\\nTOTAL Accuracy: {:.2f}%\".format(100*Correct/Samples),\"  Samples in Test: \", Samples,\"  Correct Predictions: \", Correct)\r\n",
        "print(\"Avg. Weighted Precision: {:.2f}% \\tAvg. Weighted Recall: {:.2f}%\\n\".format(PrecisionWAvg/Samples, RecallWAvg/Samples))\r\n"
      ],
      "execution_count": 17,
      "outputs": [
        {
          "output_type": "stream",
          "text": [
            "Bathtub \n",
            "\tPrecision: 100.00% \tRecall: 84.00%\n",
            "\tTP: 42   FP: 0   FN: 8   Samples in Test: 50\n",
            "Bed \n",
            "\tPrecision: 94.17% \tRecall: 97.00%\n",
            "\tTP: 97   FP: 6   FN: 3   Samples in Test: 100\n",
            "Chair \n",
            "\tPrecision: 97.09% \tRecall: 100.00%\n",
            "\tTP: 100   FP: 3   FN: 0   Samples in Test: 100\n",
            "Desk \n",
            "\tPrecision: 74.49% \tRecall: 84.88%\n",
            "\tTP: 73   FP: 25   FN: 13   Samples in Test: 86\n",
            "Dresser \n",
            "\tPrecision: 77.42% \tRecall: 83.72%\n",
            "\tTP: 72   FP: 21   FN: 14   Samples in Test: 86\n",
            "Monitor \n",
            "\tPrecision: 98.00% \tRecall: 98.00%\n",
            "\tTP: 98   FP: 2   FN: 2   Samples in Test: 100\n",
            "Night_Stand \n",
            "\tPrecision: 81.01% \tRecall: 74.42%\n",
            "\tTP: 64   FP: 15   FN: 22   Samples in Test: 86\n",
            "Sofa \n",
            "\tPrecision: 97.00% \tRecall: 97.00%\n",
            "\tTP: 97   FP: 3   FN: 3   Samples in Test: 100\n",
            "Table \n",
            "\tPrecision: 84.44% \tRecall: 76.00%\n",
            "\tTP: 76   FP: 14   FN: 24   Samples in Test: 100\n",
            "Toilet \n",
            "\tPrecision: 99.00% \tRecall: 99.00%\n",
            "\tTP: 99   FP: 1   FN: 1   Samples in Test: 100\n",
            "\n",
            "TOTAL Accuracy: 90.09%   Samples in Test:  908   Correct Predictions:  818\n",
            "Avg. Weighted Precision: 90.31% \tAvg. Weighted Recall: 90.09%\n",
            "\n"
          ],
          "name": "stdout"
        }
      ]
    }
  ]
}